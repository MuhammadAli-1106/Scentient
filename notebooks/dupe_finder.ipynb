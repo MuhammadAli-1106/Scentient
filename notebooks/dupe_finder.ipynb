{
 "cells": [
  {
   "cell_type": "code",
   "execution_count": 50,
   "id": "0e941474",
   "metadata": {},
   "outputs": [],
   "source": [
    "import pandas as pd\n",
    "import numpy as np\n",
    "from sklearn.metrics.pairwise import cosine_similarity\n",
    "from sklearn.preprocessing import MultiLabelBinarizer\n",
    "from rapidfuzz import fuzz, process"
   ]
  },
  {
   "cell_type": "code",
   "execution_count": 51,
   "id": "f9d9aa7d",
   "metadata": {},
   "outputs": [],
   "source": [
    "df = pd.read_csv(\"../data/fragrantica_cleaned.csv\", sep=';')"
   ]
  },
  {
   "cell_type": "code",
   "execution_count": 52,
   "id": "9a14a942",
   "metadata": {},
   "outputs": [
    {
     "name": "stdout",
     "output_type": "stream",
     "text": [
      "                                                 url  \\\n",
      "0  https://www.fragrantica.com/perfume/xerjoff/ac...   \n",
      "1  https://www.fragrantica.com/perfume/jean-paul-...   \n",
      "2  https://www.fragrantica.com/perfume/jean-paul-...   \n",
      "3  https://www.fragrantica.com/perfume/bruno-bana...   \n",
      "4  https://www.fragrantica.com/perfume/jean-paul-...   \n",
      "\n",
      "                          Perfume               Brand  Country  Gender  \\\n",
      "0  accento-overdose-pride-edition             xerjoff    Italy  unisex   \n",
      "1            classique-pride-2024  jean-paul-gaultier   France   women   \n",
      "2            classique-pride-2023  jean-paul-gaultier   France  unisex   \n",
      "3               pride-edition-man        bruno-banani  Germany     men   \n",
      "4         le-male-pride-collector  jean-paul-gaultier   France     men   \n",
      "\n",
      "  Rating Value  Rating Count    Year  \\\n",
      "0         1,42           201  2022.0   \n",
      "1         1,86            70  2024.0   \n",
      "2         1,91           285  2023.0   \n",
      "3         1,92            59  2019.0   \n",
      "4         1,93           632  2020.0   \n",
      "\n",
      "                                             Top  \\\n",
      "0           fruity notes, aldehydes, green notes   \n",
      "1                                 yuzu, citruses   \n",
      "2                             blood orange, yuzu   \n",
      "3                 guarana, grapefruit, red apple   \n",
      "4  mint, lavender, cardamom, artemisia, bergamot   \n",
      "\n",
      "                                              Middle  \\\n",
      "0  bulgarian rose, egyptian jasmine, lily-of-the-...   \n",
      "1                             orange blossom, neroli   \n",
      "2                             neroli, orange blossom   \n",
      "3                            walnut, lavender, guava   \n",
      "4                  caraway, cinnamon, orange blossom   \n",
      "\n",
      "                                            Base             Perfumer1  \\\n",
      "0                               eucalyptus, pine               unknown   \n",
      "1                             musk, blonde woods               unknown   \n",
      "2                              musk, white woods  natalie gracia-cetto   \n",
      "3                        vetiver, benzoin, amber               unknown   \n",
      "4  vanilla, sandalwood, amber, cedar, tonka bean     francis kurkdjian   \n",
      "\n",
      "       Perfumer2 mainaccord1   mainaccord2  mainaccord3  mainaccord4  \\\n",
      "0            NaN        rose         woody       fruity     aromatic   \n",
      "1            NaN      citrus  white floral        sweet        fresh   \n",
      "2  quentin bisch      citrus  white floral        sweet  fresh spicy   \n",
      "3            NaN      fruity         nutty        woody     tropical   \n",
      "4            NaN    aromatic    warm spicy  fresh spicy     cinnamon   \n",
      "\n",
      "  mainaccord5  \n",
      "0      floral  \n",
      "1       musky  \n",
      "2       musky  \n",
      "3         NaN  \n",
      "4     vanilla  \n"
     ]
    }
   ],
   "source": [
    "print(df.head())"
   ]
  },
  {
   "cell_type": "code",
   "execution_count": 53,
   "id": "9148bbf9",
   "metadata": {},
   "outputs": [],
   "source": [
    "def clean_and_split(text):\n",
    "    if pd.isna(text):\n",
    "        return []\n",
    "    return [x.strip().lower() for x in text.split(',')]"
   ]
  },
  {
   "cell_type": "code",
   "execution_count": 54,
   "id": "cabe82c7",
   "metadata": {},
   "outputs": [],
   "source": [
    "df['Top'] = df['Top'].apply(clean_and_split)\n",
    "df['Middle'] = df['Middle'].apply(clean_and_split)\n",
    "df['Base'] = df['Base'].apply(clean_and_split)"
   ]
  },
  {
   "cell_type": "code",
   "execution_count": 55,
   "id": "2040ce67",
   "metadata": {},
   "outputs": [],
   "source": [
    "# ==========================\n",
    "# Synonym Dictionary\n",
    "# ==========================\n",
    "note_synonyms = {\n",
    "    \"bourbon vanilla\": \"vanilla\",\n",
    "    \"madagascar vanilla\": \"vanilla\",\n",
    "    \"ambergris\": \"amber\",\n",
    "    \"amberwood\": \"amber\",\n",
    "    \"rose de mai\": \"rose\",\n",
    "    \"bulgarian rose\": \"rose\",\n",
    "    \"damask rose\": \"rose\",\n",
    "    \"tonka bean\": \"tonka\",\n",
    "    \"benzoin resin\": \"benzoin\",\n",
    "    \"white musk\": \"musk\",\n",
    "    \"musk ketone\": \"musk\",\n",
    "    \"cacao\": \"chocolate\",\n",
    "    \"cocoa\": \"chocolate\",\n",
    "    \"oud wood\": \"oud\",\n",
    "    \"agarwood\": \"oud\",\n",
    "    \"patchouli leaf\": \"patchouli\"\n",
    "    # Add more as needed\n",
    "}\n",
    "\n",
    "def normalize_notes(note_list):\n",
    "    normalized = []\n",
    "    for note in note_list:\n",
    "        note_clean = note.strip().lower()\n",
    "        if note_clean in note_synonyms:\n",
    "            normalized.append(note_synonyms[note_clean])\n",
    "        else:\n",
    "            normalized.append(note_clean)\n",
    "    return normalized\n",
    "\n",
    "# Apply normalization\n",
    "df['Top'] = df['Top'].apply(normalize_notes)\n",
    "df['Middle'] = df['Middle'].apply(normalize_notes)\n",
    "df['Base'] = df['Base'].apply(normalize_notes)\n",
    "df['All_Notes'] = df['Top'] + df['Middle'] + df['Base']\n"
   ]
  },
  {
   "cell_type": "code",
   "execution_count": 56,
   "id": "99584d08",
   "metadata": {},
   "outputs": [],
   "source": [
    "df['All_Notes'] = df['Top'] + df['Middle'] + df['Base']"
   ]
  },
  {
   "cell_type": "code",
   "execution_count": 57,
   "id": "9996cbdb",
   "metadata": {},
   "outputs": [],
   "source": [
    "accord_cols = ['mainaccord1','mainaccord2','mainaccord3','mainaccord4','mainaccord5']\n",
    "df['Accords'] = df[accord_cols].apply(lambda x: [str(i).lower() for i in x if pd.notna(i)], axis=1)"
   ]
  },
  {
   "cell_type": "code",
   "execution_count": 58,
   "id": "45c72daa",
   "metadata": {},
   "outputs": [],
   "source": [
    "mlb_notes = MultiLabelBinarizer()\n",
    "notes_matrix = mlb_notes.fit_transform(df['All_Notes'])\n",
    "\n",
    "mlb_accords = MultiLabelBinarizer()\n",
    "accords_matrix = mlb_accords.fit_transform(df['Accords'])"
   ]
  },
  {
   "cell_type": "code",
   "execution_count": 59,
   "id": "cb10e495",
   "metadata": {},
   "outputs": [],
   "source": [
    "def normalize_text(text):\n",
    "    return text.lower().replace(\"-\", \" \").strip()"
   ]
  },
  {
   "cell_type": "code",
   "execution_count": 60,
   "id": "9b392830",
   "metadata": {},
   "outputs": [],
   "source": [
    "def jaccard_similarity(set1, set2):\n",
    "    if not set1 or not set2:\n",
    "        return 0\n",
    "    intersection = len(set(set1).intersection(set(set2)))\n",
    "    union = len(set(set1).union(set(set2)))\n",
    "    return intersection / union"
   ]
  },
  {
   "cell_type": "code",
   "execution_count": 61,
   "id": "201e4698",
   "metadata": {},
   "outputs": [],
   "source": [
    "def fuzzy_match_perfume(query, choices, limit=5):\n",
    "    return process.extract(query, choices, scorer=fuzz.token_set_ratio, limit=limit)"
   ]
  },
  {
   "cell_type": "code",
   "execution_count": 62,
   "id": "13b62a72",
   "metadata": {},
   "outputs": [],
   "source": [
    "accords_sim_matrix = cosine_similarity(accords_matrix)"
   ]
  },
  {
   "cell_type": "code",
   "execution_count": 71,
   "id": "311e6277",
   "metadata": {},
   "outputs": [],
   "source": [
    "def get_similar_fragrances(perfume_query, top_n=10, weight_notes=0.6, weight_accords=0.4):\n",
    "    # Normalize input\n",
    "    perfume_query = normalize_text(perfume_query)\n",
    "    \n",
    "    # Combine Brand + Perfume for better search\n",
    "    df['SearchKey'] = df['Brand'].str.lower() + \" \" + df['Perfume'].str.lower().str.replace(\"-\", \" \")\n",
    "    \n",
    "    # Fuzzy match\n",
    "    matches = fuzzy_match_perfume(perfume_query, df['SearchKey'].tolist(), limit=5)\n",
    "    \n",
    "    if not matches:\n",
    "        return f\"No match found for '{perfume_query}'.\"\n",
    "    \n",
    "    # Pick best match\n",
    "    best_match_name = matches[0][0]\n",
    "    idx = df[df['SearchKey'] == best_match_name].index[0]\n",
    "    \n",
    "    print(f\" Matched input to: {df.iloc[idx]['Perfume']} by {df.iloc[idx]['Brand']} (Score: {matches[0][1]}%)\")\n",
    "    \n",
    "    # Get target perfume data\n",
    "    target_notes = df.iloc[idx]['All_Notes']\n",
    "    \n",
    "    # Compute Jaccard similarity for notes\n",
    "    note_similarities = [jaccard_similarity(target_notes, notes) for notes in df['All_Notes']]\n",
    "    \n",
    "    # Accord similarity from precomputed matrix\n",
    "    accord_similarities = accords_sim_matrix[idx]\n",
    "    \n",
    "    # Combined score\n",
    "    combined_score = weight_notes * np.array(note_similarities) + weight_accords * np.array(accord_similarities)\n",
    "    \n",
    "    # Normalize to 0–100\n",
    "    combined_score = (combined_score / combined_score.max()) * 100\n",
    "    \n",
    "    df_scores = df.copy()\n",
    "    df_scores['Similarity'] = combined_score\n",
    "    \n",
    "    # Sort & filter\n",
    "    df_scores = df_scores.sort_values(by='Similarity', ascending=False)\n",
    "    df_scores = df_scores[df_scores['Perfume'] != df.iloc[idx]['Perfume']]\n",
    "    \n",
    "    return df_scores[['Perfume','Brand','Year','Gender','Similarity','Rating Value','url']].head(top_n)\n"
   ]
  },
  {
   "cell_type": "code",
   "execution_count": 84,
   "id": "3a9055b9",
   "metadata": {},
   "outputs": [
    {
     "name": "stdout",
     "output_type": "stream",
     "text": [
      " Matched input to: zulfa by khalis (Score: 52.63157894736842%)\n",
      "                          Perfume             Brand    Year  Gender  \\\n",
      "3984        sakura-cherry-blossom  jo-malone-london  2011.0   women   \n",
      "19337                        mira            korres  2015.0   women   \n",
      "6000      eau-de-fleur-de-camelia             kenzo  2011.0   women   \n",
      "10471  chloe-eau-de-toilette-2015             chloe  2015.0   women   \n",
      "23777               desert-falcon       arabian-oud     NaN  unisex   \n",
      "\n",
      "       Similarity Rating Value  \\\n",
      "3984    52.000000         3,71   \n",
      "19337   52.000000         4,19   \n",
      "6000    52.000000         3,79   \n",
      "10471   50.909091         3,93   \n",
      "23777   49.142857         4,54   \n",
      "\n",
      "                                                     url  \n",
      "3984   https://www.fragrantica.com/perfume/jo-malone-...  \n",
      "19337  https://www.fragrantica.com/perfume/korres/mir...  \n",
      "6000   https://www.fragrantica.com/perfume/kenzo/eau-...  \n",
      "10471  https://www.fragrantica.com/perfume/chloe/chlo...  \n",
      "23777  https://www.fragrantica.com/perfume/arabian-ou...  \n"
     ]
    }
   ],
   "source": [
    "results = get_similar_fragrances(\"Khadlaj\", top_n=5)\n",
    "print(results)\n"
   ]
  },
  {
   "cell_type": "code",
   "execution_count": 65,
   "id": "4660b04f",
   "metadata": {},
   "outputs": [],
   "source": [
    "def compare_two_perfumes(name1, name2):\n",
    "    idx1 = df[df['Perfume'].str.contains(name1, case=False, na=False)].index[0]\n",
    "    idx2 = df[df['Perfume'].str.contains(name2, case=False, na=False)].index[0]\n",
    "    \n",
    "    notes_sim = jaccard_similarity(df.iloc[idx1]['All_Notes'], df.iloc[idx2]['All_Notes'])\n",
    "    accords_sim = cosine_similarity(accords_matrix[idx1].reshape(1, -1), accords_matrix[idx2].reshape(1, -1))[0][0]\n",
    "    combined = 0.7 * notes_sim + 0.3 * accords_sim\n",
    "    \n",
    "    return {\n",
    "        \"Perfume 1\": df.iloc[idx1]['Perfume'],\n",
    "        \"Perfume 2\": df.iloc[idx2]['Perfume'],\n",
    "        \"Notes Similarity\": round(notes_sim, 3),\n",
    "        \"Accords Similarity\": round(accords_sim, 3),\n",
    "        \"Combined Score\": round(combined, 3)\n",
    "    }"
   ]
  },
  {
   "cell_type": "code",
   "execution_count": 67,
   "id": "9df2718f",
   "metadata": {},
   "outputs": [
    {
     "name": "stdout",
     "output_type": "stream",
     "text": [
      "{'Perfume 1': 'althair', 'Perfume 2': 'khamrah-qahwa', 'Notes Similarity': 0.312, 'Accords Similarity': 0.8, 'Combined Score': 0.459}\n"
     ]
    }
   ],
   "source": [
    "results = compare_two_perfumes(\"althair\", \"qahwa\")\n",
    "print(results)"
   ]
  }
 ],
 "metadata": {
  "kernelspec": {
   "display_name": "scentient",
   "language": "python",
   "name": "python3"
  },
  "language_info": {
   "codemirror_mode": {
    "name": "ipython",
    "version": 3
   },
   "file_extension": ".py",
   "mimetype": "text/x-python",
   "name": "python",
   "nbconvert_exporter": "python",
   "pygments_lexer": "ipython3",
   "version": "3.10.18"
  }
 },
 "nbformat": 4,
 "nbformat_minor": 5
}
